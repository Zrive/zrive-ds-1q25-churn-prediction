{
 "cells": [
  {
   "cell_type": "code",
   "execution_count": 1,
   "id": "12072b59",
   "metadata": {},
   "outputs": [],
   "source": [
    "import matplotlib\n",
    "import matplotlib.pyplot as plt\n",
    "from typing import Tuple\n",
    "import numpy as np\n",
    "import pandas as pd\n",
    "from pathlib import Path\n",
    "from sklearn.linear_model import LogisticRegression\n",
    "from sklearn.metrics import (\n",
    "    auc,\n",
    "    average_precision_score,\n",
    "    log_loss,\n",
    "    precision_recall_curve,\n",
    ")\n",
    "from sklearn.metrics import (\n",
    "    roc_curve, roc_auc_score \n",
    ")\n",
    "from sklearn.pipeline import make_pipeline \n",
    "from sklearn.preprocessing import StandardScaler"
   ]
  },
  {
   "cell_type": "code",
   "execution_count": 2,
   "id": "a9b3b3f4",
   "metadata": {},
   "outputs": [],
   "source": [
    "data_path = Path(\"../data\")"
   ]
  },
  {
   "cell_type": "code",
   "execution_count": 3,
   "id": "a01a912c",
   "metadata": {},
   "outputs": [],
   "source": [
    "df = pd.read_parquet(data_path / \"full_data.parquet\")"
   ]
  },
  {
   "cell_type": "code",
   "execution_count": 4,
   "id": "fa37bf2e",
   "metadata": {},
   "outputs": [
    {
     "name": "stdout",
     "output_type": "stream",
     "text": [
      "<class 'pandas.core.frame.DataFrame'>\n",
      "Index: 56335 entries, 0 to 56334\n",
      "Data columns (total 69 columns):\n",
      " #   Column                                          Non-Null Count  Dtype    \n",
      "---  ------                                          --------------  -----    \n",
      " 0   advertiser_zrive_id                             56335 non-null  int64    \n",
      " 1   period_int                                      56335 non-null  int64    \n",
      " 2   monthly_published_ads                           56335 non-null  int64    \n",
      " 3   monthly_unique_published_ads                    56335 non-null  int64    \n",
      " 4   monthly_contracted_ads                          56335 non-null  int64    \n",
      " 5   monthly_leads                                   56335 non-null  int64    \n",
      " 6   monthly_visits                                  56335 non-null  float64  \n",
      " 7   monthly_oro_ads                                 56335 non-null  int64    \n",
      " 8   monthly_plata_ads                               56335 non-null  int64    \n",
      " 9   monthly_destacados_ads                          56335 non-null  int64    \n",
      " 10  monthly_pepitas_ads                             56335 non-null  int64    \n",
      " 11  monthly_shows                                   56335 non-null  float64  \n",
      " 12  monthly_total_phone_views                       56335 non-null  int64    \n",
      " 13  monthly_total_calls                             56335 non-null  int64    \n",
      " 14  monthly_total_emails                            56335 non-null  int64    \n",
      " 15  monthly_total_invoice                           56335 non-null  float64  \n",
      " 16  monthly_unique_calls                            56335 non-null  int64    \n",
      " 17  monthly_unique_emails                           56335 non-null  int64    \n",
      " 18  monthly_unique_leads                            56335 non-null  int64    \n",
      " 19  monthly_avg_ad_price                            40413 non-null  float64  \n",
      " 20  monthly_distinct_ads                            39798 non-null  float64  \n",
      " 21  month_period                                    56335 non-null  period[M]\n",
      " 22  churn                                           56335 non-null  float64  \n",
      " 23  tenure                                          56305 non-null  float64  \n",
      " 24  months_since_last_contract                      56305 non-null  float64  \n",
      " 25  has_renewed                                     56335 non-null  int32    \n",
      " 26  monthly_total_premium_ads                       56335 non-null  int64    \n",
      " 27  ratio_published_contracted                      56335 non-null  float64  \n",
      " 28  ratio_unique_published                          56335 non-null  float64  \n",
      " 29  ratio_premium_ads                               56335 non-null  float64  \n",
      " 30  leads_per_published_ad                          56335 non-null  float64  \n",
      " 31  leads_per_premium_ad                            56335 non-null  float64  \n",
      " 32  visits_per_published_ad                         56335 non-null  float64  \n",
      " 33  leads_per_visit                                 56335 non-null  float64  \n",
      " 34  leads_per_shows                                 56335 non-null  float64  \n",
      " 35  invoice_per_published_ad                        56335 non-null  float64  \n",
      " 36  invoice_per_lead                                56335 non-null  float64  \n",
      " 37  monthly_leads_3_months_mean                     56335 non-null  float64  \n",
      " 38  monthly_leads_3_months_mean_delta               56335 non-null  float64  \n",
      " 39  monthly_visits_3_months_mean                    56335 non-null  float64  \n",
      " 40  monthly_visits_3_months_mean_delta              56335 non-null  float64  \n",
      " 41  monthly_total_invoice_3_months_mean             56335 non-null  float64  \n",
      " 42  monthly_total_invoice_3_months_mean_delta       56335 non-null  float64  \n",
      " 43  monthly_avg_ad_price_3_months_mean              40495 non-null  float64  \n",
      " 44  monthly_avg_ad_price_3_months_mean_delta        40413 non-null  float64  \n",
      " 45  monthly_published_ads_3_months_mean             56335 non-null  float64  \n",
      " 46  monthly_published_ads_3_months_mean_delta       56335 non-null  float64  \n",
      " 47  monthly_contracted_ads_3_months_mean            56335 non-null  float64  \n",
      " 48  monthly_contracted_ads_3_months_mean_delta      56335 non-null  float64  \n",
      " 49  ratio_published_contracted_3_months_mean        56335 non-null  float64  \n",
      " 50  ratio_published_contracted_3_months_mean_delta  56335 non-null  float64  \n",
      " 51  ratio_unique_published_3_months_mean            56335 non-null  float64  \n",
      " 52  ratio_unique_published_3_months_mean_delta      56335 non-null  float64  \n",
      " 53  ratio_premium_ads_3_months_mean                 56335 non-null  float64  \n",
      " 54  ratio_premium_ads_3_months_mean_delta           56335 non-null  float64  \n",
      " 55  leads_per_published_ad_3_months_mean            56335 non-null  float64  \n",
      " 56  leads_per_published_ad_3_months_mean_delta      56335 non-null  float64  \n",
      " 57  leads_per_premium_ad_3_months_mean              56335 non-null  float64  \n",
      " 58  leads_per_premium_ad_3_months_mean_delta        56335 non-null  float64  \n",
      " 59  visits_per_published_ad_3_months_mean           56335 non-null  float64  \n",
      " 60  visits_per_published_ad_3_months_mean_delta     56335 non-null  float64  \n",
      " 61  leads_per_visit_3_months_mean                   56335 non-null  float64  \n",
      " 62  leads_per_visit_3_months_mean_delta             56335 non-null  float64  \n",
      " 63  leads_per_shows_3_months_mean                   56335 non-null  float64  \n",
      " 64  leads_per_shows_3_months_mean_delta             56335 non-null  float64  \n",
      " 65  invoice_per_published_ad_3_months_mean          56335 non-null  float64  \n",
      " 66  invoice_per_published_ad_3_months_mean_delta    56335 non-null  float64  \n",
      " 67  invoice_per_lead_3_months_mean                  56335 non-null  float64  \n",
      " 68  invoice_per_lead_3_months_mean_delta            56335 non-null  float64  \n",
      "dtypes: float64(50), int32(1), int64(17), period[M](1)\n",
      "memory usage: 29.9 MB\n"
     ]
    }
   ],
   "source": [
    "df.info()"
   ]
  },
  {
   "cell_type": "code",
   "execution_count": 5,
   "id": "c028cc6a",
   "metadata": {},
   "outputs": [
    {
     "data": {
      "text/plain": [
       "churn\n",
       "0.0    0.922925\n",
       "1.0    0.077075\n",
       "Name: proportion, dtype: float64"
      ]
     },
     "execution_count": 5,
     "metadata": {},
     "output_type": "execute_result"
    }
   ],
   "source": [
    "df[\"churn\"].value_counts(normalize=True)"
   ]
  },
  {
   "cell_type": "markdown",
   "id": "82ab0c35",
   "metadata": {},
   "source": [
    "- Unbalanced problem"
   ]
  },
  {
   "cell_type": "markdown",
   "id": "da9cd866",
   "metadata": {},
   "source": [
    "#### Drop duplicate month feature"
   ]
  },
  {
   "cell_type": "code",
   "execution_count": 6,
   "id": "35513e82",
   "metadata": {},
   "outputs": [],
   "source": [
    "df = df.drop(columns=[\"period_int\"])"
   ]
  },
  {
   "cell_type": "code",
   "execution_count": 7,
   "id": "4d425fd3",
   "metadata": {},
   "outputs": [
    {
     "data": {
      "text/plain": [
       "Index(['monthly_avg_ad_price', 'monthly_distinct_ads', 'tenure',\n",
       "       'months_since_last_contract', 'monthly_avg_ad_price_3_months_mean',\n",
       "       'monthly_avg_ad_price_3_months_mean_delta'],\n",
       "      dtype='object')"
      ]
     },
     "execution_count": 7,
     "metadata": {},
     "output_type": "execute_result"
    }
   ],
   "source": [
    "df.columns[df.isnull().any()]"
   ]
  },
  {
   "cell_type": "markdown",
   "id": "f9a429cb",
   "metadata": {},
   "source": [
    "#### Ternure\n",
    "\n",
    "- Set tenure to 0 for users who have no activity or contract. This ensures that users with no recorded activity or contract are considered as having 0 months of tenure."
   ]
  },
  {
   "cell_type": "code",
   "execution_count": 8,
   "id": "47e00777",
   "metadata": {},
   "outputs": [],
   "source": [
    "df['tenure'] = df['tenure'].fillna(0)"
   ]
  },
  {
   "cell_type": "markdown",
   "id": "5204071f",
   "metadata": {},
   "source": [
    "#### months_since_last_contract\n",
    "\n",
    "- If `months_since_last_contract` is `NaN`, it indicates either no previous contract or they are in their first contract.\n",
    "- We fill `NaN` with 0 to represent users with no prior contract or those on their first contract."
   ]
  },
  {
   "cell_type": "code",
   "execution_count": 9,
   "id": "c6a16010",
   "metadata": {},
   "outputs": [],
   "source": [
    "df['months_since_last_contract'] = df['months_since_last_contract'].fillna(0)"
   ]
  },
  {
   "cell_type": "markdown",
   "id": "7fe1b9a4",
   "metadata": {},
   "source": [
    "#### monthly_distinct_ads\n",
    "\n",
    "- When there is at least one non-null month, I will impute the missing values with the first non-null value and propagate it backwards. If there are any nulls later on, we will propagate the non-null value forward as well. For users with all null values, I will impute it with the value of monthly_published_ads, since monthly_distinct_ads represents a similar metric."
   ]
  },
  {
   "cell_type": "code",
   "execution_count": 10,
   "id": "82f3c459",
   "metadata": {},
   "outputs": [],
   "source": [
    "df['monthly_distinct_ads'] = df.groupby('advertiser_zrive_id')['monthly_distinct_ads'].transform(\n",
    "    lambda x: x.bfill().ffill()\n",
    ")\n",
    "\n",
    "df['monthly_distinct_ads'] = df['monthly_distinct_ads'].fillna(df['monthly_published_ads'])\n"
   ]
  },
  {
   "cell_type": "markdown",
   "id": "666eda3e",
   "metadata": {},
   "source": [
    "#### monthly_avg_ad_price\n",
    "\n",
    "- I will impute the missing values in the first months with the first non-null value, carrying it backwards. If all months are null, I will impute with the global mean of the entire dataset."
   ]
  },
  {
   "cell_type": "code",
   "execution_count": 11,
   "id": "971144bc",
   "metadata": {},
   "outputs": [],
   "source": [
    "global_mean_price = df['monthly_avg_ad_price'].mean()\n",
    "\n",
    "df['monthly_avg_ad_price'] = (\n",
    "    df\n",
    "    .groupby('advertiser_zrive_id')['monthly_avg_ad_price']\n",
    "    .transform(lambda group: group.bfill().ffill())\n",
    ")\n",
    "\n",
    "df['monthly_avg_ad_price'] = df['monthly_avg_ad_price'].fillna(global_mean_price)\n"
   ]
  },
  {
   "cell_type": "markdown",
   "id": "0afca3de",
   "metadata": {},
   "source": [
    "#### monthly_avg_ad_price_3_months_mean and monthly_avg_ad_price_3_months_delta\n",
    "\n",
    "- We had to recompute the variables monthly_avg_ad_price_3_months_mean and monthly_avg_ad_price_3_months_delta after imputing the null values in 'monthly_avg_ad_price'."
   ]
  },
  {
   "cell_type": "code",
   "execution_count": 12,
   "id": "606ac75c",
   "metadata": {},
   "outputs": [],
   "source": [
    "from typing import List\n",
    "\n",
    "def create_agg_stats(\n",
    "        df: pd.DataFrame, \n",
    "        features: List[str], \n",
    "        months = 3, \n",
    "        agg_funcs=['mean', 'std', 'min', 'max'], \n",
    "        add_deltas=True\n",
    ") -> pd.DataFrame:\n",
    "    '''\n",
    "    Adds aggregate features over the last months for the features passed to the function \n",
    "    '''\n",
    "\n",
    "    df_agg = df.copy().sort_values(by=['advertiser_zrive_id','month_period'], ascending=[True, True])\n",
    "\n",
    "    for feature in features:\n",
    "        for agg_func in agg_funcs:\n",
    "            col_name = f'{feature}_{months}_months_{agg_func}'\n",
    "            df_agg[col_name] = (\n",
    "                df_agg.groupby('advertiser_zrive_id')[feature]\n",
    "                .transform(lambda x: x.rolling(window=months, min_periods=1).agg(agg_func))\n",
    "            )\n",
    "\n",
    "            if add_deltas and agg_func == 'mean':\n",
    "                delta_col = f'{feature}_{months}_months_mean_delta'\n",
    "                df_agg[delta_col] = df_agg[feature] - df_agg[col_name]\n",
    "\n",
    "    df_agg = df_agg.sort_values(by=['advertiser_zrive_id','month_period'])\n",
    "\n",
    "    return df_agg\n",
    "\n",
    "df_final = df.drop(['monthly_avg_ad_price_3_months_mean', 'monthly_avg_ad_price_3_months_mean_delta'], axis=1)\n",
    "\n",
    "created_columns = [\n",
    "    'advertiser_zrive_id',\n",
    "    'monthly_published_ads',\n",
    "    'monthly_published_ads_3_months_mean',\n",
    "    'monthly_published_ads_3_months_mean_delta',\n",
    "    'monthly_unique_published_ads',\n",
    "    'monthly_contracted_ads',\n",
    "    'monthly_contracted_ads_3_months_mean',\n",
    "    'monthly_contracted_ads_3_months_mean_delta',\n",
    "    'monthly_leads',\n",
    "    'monthly_leads_3_months_mean',\n",
    "    'monthly_leads_3_months_mean_delta',\n",
    "    'monthly_visits',\n",
    "    'monthly_visits_3_months_mean',\n",
    "    'monthly_visits_3_months_mean_delta',\n",
    "    'monthly_oro_ads',\n",
    "    'monthly_plata_ads',\n",
    "    'monthly_destacados_ads',\n",
    "    'monthly_pepitas_ads',\n",
    "    'monthly_shows',\n",
    "    'monthly_total_phone_views',\n",
    "    'monthly_total_calls',\n",
    "    'monthly_total_emails',\n",
    "    'monthly_total_invoice',\n",
    "    'monthly_total_invoice_3_months_mean',\n",
    "    'monthly_total_invoice_3_months_mean_delta',\n",
    "    'monthly_unique_calls',\n",
    "    'monthly_unique_emails',\n",
    "    'monthly_unique_leads',\n",
    "    'monthly_avg_ad_price',\n",
    "    'monthly_distinct_ads',\n",
    "    'month_period',\n",
    "    'tenure',\n",
    "    'months_since_last_contract',\n",
    "    'has_renewed',\n",
    "    'monthly_total_premium_ads',\n",
    "    'ratio_published_contracted',\n",
    "    'ratio_published_contracted_3_months_mean',\n",
    "    'ratio_published_contracted_3_months_mean_delta',\n",
    "    'ratio_unique_published',\n",
    "    'ratio_unique_published_3_months_mean',\n",
    "    'ratio_unique_published_3_months_mean_delta',\n",
    "    'ratio_premium_ads',\n",
    "    'ratio_premium_ads_3_months_mean',\n",
    "    'ratio_premium_ads_3_months_mean_delta',\n",
    "    'leads_per_published_ad',\n",
    "    'leads_per_published_ad_3_months_mean',\n",
    "    'leads_per_published_ad_3_months_mean_delta',\n",
    "    'leads_per_premium_ad',\n",
    "    'leads_per_premium_ad_3_months_mean',\n",
    "    'leads_per_premium_ad_3_months_mean_delta',\n",
    "    'visits_per_published_ad',\n",
    "    'visits_per_published_ad_3_months_mean',\n",
    "    'visits_per_published_ad_3_months_mean_delta',\n",
    "    'leads_per_visit',\n",
    "    'leads_per_visit_3_months_mean',\n",
    "    'leads_per_visit_3_months_mean_delta',\n",
    "    'leads_per_shows',\n",
    "    'leads_per_shows_3_months_mean',\n",
    "    'leads_per_shows_3_months_mean_delta',\n",
    "    'invoice_per_published_ad',\n",
    "    'invoice_per_published_ad_3_months_mean',\n",
    "    'invoice_per_published_ad_3_months_mean_delta',\n",
    "    'invoice_per_lead',\n",
    "    'invoice_per_lead_3_months_mean',\n",
    "    'invoice_per_lead_3_months_mean_delta',\n",
    "    'churn'\n",
    "]\n",
    "\n",
    "df_ratios = df[created_columns].copy()\n",
    "\n",
    "features_to_aggregate = [\n",
    "    'monthly_avg_ad_price',\n",
    "]\n",
    "agg_funcs = ['mean']\n",
    "\n",
    "df = create_agg_stats(df_ratios, features = features_to_aggregate, months = 3, agg_funcs=agg_funcs, add_deltas=True)"
   ]
  },
  {
   "cell_type": "code",
   "execution_count": 13,
   "id": "3a9113b4",
   "metadata": {},
   "outputs": [
    {
     "data": {
      "text/plain": [
       "Index([], dtype='object')"
      ]
     },
     "execution_count": 13,
     "metadata": {},
     "output_type": "execute_result"
    }
   ],
   "source": [
    "df.columns[df.isnull().any()]"
   ]
  },
  {
   "cell_type": "code",
   "execution_count": 14,
   "id": "345961af",
   "metadata": {},
   "outputs": [],
   "source": [
    "info_cols = [\"advertiser_zrive_id\", \"month_period\", \"user_id\", \"created_at\", \"order_date\"]\n",
    "label_col = [\"churn\"]\n",
    "\n",
    "features_cols = [col for col in df.columns if col not in info_cols + label_col]\n",
    "\n",
    "categorical_cols = []\n",
    "binary_cols = [\"has_renewed\"]\n",
    "\n",
    "numerical_cols = [col for col in features_cols if col not in categorical_cols + binary_cols]"
   ]
  },
  {
   "cell_type": "code",
   "execution_count": 15,
   "id": "8c758dda",
   "metadata": {},
   "outputs": [],
   "source": [
    "train_cols = numerical_cols + binary_cols"
   ]
  },
  {
   "cell_type": "markdown",
   "id": "fcc88fca",
   "metadata": {},
   "source": [
    "### Data splits\n",
    "#### In this section we will be spliting the data in 3 groups:\n",
    "    - Training: to fit our models\n",
    "    - Validation: to pick best model and hyperparametrisation. In addition, to perform calibration.\n",
    "    - Test: to evaluate the final model performance."
   ]
  },
  {
   "cell_type": "code",
   "execution_count": 16,
   "id": "97659db4",
   "metadata": {},
   "outputs": [],
   "source": [
    "train_start = \"202303\"\n",
    "train_val_cutoff = \"202312\"\n",
    "val_cutoff = \"202401\""
   ]
  },
  {
   "cell_type": "code",
   "execution_count": 17,
   "id": "8c62ab83",
   "metadata": {},
   "outputs": [],
   "source": [
    "train_df = df[\n",
    "    (df['month_period'] >= train_start) &\n",
    "    (df['month_period'] <= train_val_cutoff)\n",
    "]\n",
    "val_df = df[\n",
    "    (df['month_period'] > train_val_cutoff)\n",
    "    & (df['month_period'] <= val_cutoff)\n",
    "]"
   ]
  },
  {
   "cell_type": "code",
   "execution_count": 18,
   "id": "ecb536cf",
   "metadata": {},
   "outputs": [
    {
     "name": "stdout",
     "output_type": "stream",
     "text": [
      "Churn distribution in train:\n",
      "churn\n",
      "0.0    0.922396\n",
      "1.0    0.077604\n",
      "Name: proportion, dtype: float64\n",
      "\n",
      "Churn distribution in validation:\n",
      "churn\n",
      "0.0    0.914557\n",
      "1.0    0.085443\n",
      "Name: proportion, dtype: float64\n"
     ]
    }
   ],
   "source": [
    "print(\"Churn distribution in train:\")\n",
    "print(train_df['churn'].value_counts(normalize=True))\n",
    "print(\"\\nChurn distribution in validation:\")\n",
    "print(val_df['churn'].value_counts(normalize=True))"
   ]
  },
  {
   "cell_type": "code",
   "execution_count": 19,
   "id": "6c9fd0f6",
   "metadata": {},
   "outputs": [],
   "source": [
    "def plot_metrics( \n",
    "    model_name: str, \n",
    "    y_pred: pd.Series, \n",
    "    y_test: pd.Series,\n",
    "    target_precision: float = 0.05,\n",
    "    figure: Tuple [matplotlib.figure. Figure, np.array] = None,\n",
    "):\n",
    "    precision_, recall_, _ = precision_recall_curve(y_test, y_pred) \n",
    "    pr_auc = auc(recall_, precision_)\n",
    "    fpr, tpr, _ = roc_curve(y_test, y_pred)\n",
    "    roc_auc = roc_auc_score (y_test, y_pred)\n",
    "    if figure is None:\n",
    "        fig, ax = plt.subplots(1, 2, figsize=(14, 7))\n",
    "    else:\n",
    "        fig, ax = figure\n",
    "\n",
    "    ax[0].plot(recall_, precision_, label=f\"{model_name}; AUC: {pr_auc:.2f}\")\n",
    "    ax[0].set_xlabel(\"recall\")\n",
    "    ax[0].set_ylabel(\"precision\")\n",
    "    ax[0].set_title(f\"Precision-recall Curve\")\n",
    "    ax[0].legend()\n",
    "    ax[1].plot(fpr, tpr, label=f\"AUC: {roc_auc:.2f}\")\n",
    "    ax[1].set_xlabel(\"FPR\")\n",
    "    ax[1].set_ylabel(\"TPR\")\n",
    "    ax[1].set_title(\"ROC Curve\")\n",
    "    ax[1].legend()"
   ]
  },
  {
   "cell_type": "code",
   "execution_count": 20,
   "id": "0538763b",
   "metadata": {},
   "outputs": [],
   "source": [
    "price_drop_threshold = -0.1 \n",
    "\n",
    "y_pred_baseline1 = (\n",
    "    (val_df['monthly_leads_3_months_mean_delta'] < -0.1) |  \n",
    "    (val_df['monthly_visits_3_months_mean_delta'] < -0.1) |\n",
    "    (val_df['ratio_published_contracted_3_months_mean_delta'] < -0.1) |\n",
    "    (val_df['ratio_premium_ads_3_months_mean_delta'] < -0.1) |\n",
    "    (val_df['leads_per_published_ad_3_months_mean_delta'] < -0.1) |\n",
    "    (val_df['monthly_avg_ad_price_3_months_mean_delta'] < price_drop_threshold) |\n",
    "    (val_df[\"has_renewed\"] == 1)\n",
    ").astype(int)"
   ]
  },
  {
   "cell_type": "code",
   "execution_count": 21,
   "id": "712ce9df",
   "metadata": {},
   "outputs": [
    {
     "data": {
      "image/png": "[encoded data removed]",
      "text/plain": [
       "<Figure size 1400x700 with 2 Axes>"
      ]
     },
     "metadata": {},
     "output_type": "display_data"
    }
   ],
   "source": [
    "plot_metrics(\n",
    "    model_name=\"Baseline\",\n",
    "    y_pred=y_pred_baseline1,\n",
    "    y_test=val_df[label_col]\n",
    ")"
   ]
  },
  {
   "cell_type": "markdown",
   "id": "0751be5b",
   "metadata": {},
   "source": [
    "- The initial baseline, built using simple rules over several features, achieves an AUC-PR (Area Under the Precision-Recall Curve) of 0.51. Before moving forward, it's crucial to assess whether developing and maintaining a more complex model is truly worthwhile, given the production costs and resource consumption it would imply. Any new model must significantly outperform this baseline to justify its deployment.\n",
    "\n",
    "- In this context, average precision becomes a key metric: our main objective is to maximize the detection of churned customers. Missing positive cases (churns) could have a high business impact, so the model's ability to prioritize and accurately identify as many churns as possible is far more important than purely optimizing for global accuracy or other metrics."
   ]
  },
  {
   "cell_type": "code",
   "execution_count": 22,
   "id": "c15d4d1c",
   "metadata": {},
   "outputs": [],
   "source": [
    "def feature_label_split(df: pd.DataFrame, label_col: str )-> Tuple [pd.DataFrame, pd.Series]:\n",
    "    return df.drop(label_col, axis=1), df[label_col]\n",
    "\n",
    "X_train, y_train = feature_label_split(train_df, label_col)\n",
    "X_val, y_val = feature_label_split(val_df, label_col)"
   ]
  },
  {
   "cell_type": "code",
   "execution_count": 23,
   "id": "bcd87bd5",
   "metadata": {},
   "outputs": [],
   "source": [
    "def evaluate_configuration(\n",
    "    clf,\n",
    "    X_train,\n",
    "    y_train,\n",
    "    X_val,\n",
    "    y_val,\n",
    "    train_aucs_list,\n",
    "    val_aucs_list,\n",
    "    train_ce_list,\n",
    "    val_ce_list,\n",
    "    train_aps_list,\n",
    "    val_aps_list,\n",
    "):\n",
    "    val_preds = clf.predict_proba(X_val)[:, 1]\n",
    "    train_preds = clf.predict_proba(X_train)[:, 1]\n",
    "    \n",
    "    train_auc = roc_auc_score(y_train, train_preds)\n",
    "    val_auc = roc_auc_score(y_val, val_preds)\n",
    "\n",
    "    train_crossentropy = log_loss(y_train, train_preds)\n",
    "    val_crossentropy = log_loss(y_val, val_preds)\n",
    "\n",
    "    train_ap = average_precision_score(y_train, train_preds)\n",
    "    val_ap = average_precision_score(y_val, val_preds)\n",
    "\n",
    "    train_aucs_list.append(train_auc)\n",
    "    val_aucs_list.append(val_auc)\n",
    "    train_ce_list.append(train_crossentropy)\n",
    "    val_ce_list.append(val_crossentropy)\n",
    "    train_aps_list.append(train_ap)\n",
    "    val_aps_list.append(val_ap)"
   ]
  },
  {
   "cell_type": "markdown",
   "id": "8a4ec22e",
   "metadata": {},
   "source": [
    "## Linear models"
   ]
  },
  {
   "cell_type": "markdown",
   "id": "5cb8ed2a",
   "metadata": {},
   "source": [
    "### Lasso regression"
   ]
  },
  {
   "cell_type": "code",
   "execution_count": 24,
   "id": "dca122a8",
   "metadata": {},
   "outputs": [
    {
     "name": "stdout",
     "output_type": "stream",
     "text": [
      "C: 1e-08 done with train aucs 0.5000 and val aucs 0.5000. AP train: 0.0776 and val: 0.0854. Cross entropy train: 0.4278, val: 0.4342.\n",
      "C: 1e-06 done with train aucs 0.5000 and val aucs 0.5000. AP train: 0.0776 and val: 0.0854. Cross entropy train: 0.4267, val: 0.4332.\n",
      "C: 0.0001 done with train aucs 0.5000 and val aucs 0.5000. AP train: 0.0776 and val: 0.0854. Cross entropy train: 0.4276, val: 0.4341.\n"
     ]
    },
    {
     "name": "stderr",
     "output_type": "stream",
     "text": [
      "c:\\Users\\eduez\\AppData\\Local\\pypoetry\\Cache\\virtualenvs\\zrive-ds-s1huuNnt-py3.11\\Lib\\site-packages\\sklearn\\linear_model\\_sag.py:349: ConvergenceWarning: The max_iter was reached which means the coef_ did not converge\n",
      "  warnings.warn(\n"
     ]
    },
    {
     "name": "stdout",
     "output_type": "stream",
     "text": [
      "C: 0.01 done with train aucs 0.7142 and val aucs 0.6502. AP train: 0.1546 and val: 0.1344. Cross entropy train: 0.2543, val: 0.2840.\n"
     ]
    },
    {
     "name": "stderr",
     "output_type": "stream",
     "text": [
      "c:\\Users\\eduez\\AppData\\Local\\pypoetry\\Cache\\virtualenvs\\zrive-ds-s1huuNnt-py3.11\\Lib\\site-packages\\sklearn\\linear_model\\_sag.py:349: ConvergenceWarning: The max_iter was reached which means the coef_ did not converge\n",
      "  warnings.warn(\n"
     ]
    },
    {
     "name": "stdout",
     "output_type": "stream",
     "text": [
      "C: 1 done with train aucs 0.7205 and val aucs 0.6581. AP train: 0.1613 and val: 0.1352. Cross entropy train: 0.2521, val: 0.2850.\n"
     ]
    },
    {
     "name": "stderr",
     "output_type": "stream",
     "text": [
      "c:\\Users\\eduez\\AppData\\Local\\pypoetry\\Cache\\virtualenvs\\zrive-ds-s1huuNnt-py3.11\\Lib\\site-packages\\sklearn\\linear_model\\_sag.py:349: ConvergenceWarning: The max_iter was reached which means the coef_ did not converge\n",
      "  warnings.warn(\n"
     ]
    },
    {
     "name": "stdout",
     "output_type": "stream",
     "text": [
      "C: 100 done with train aucs 0.7206 and val aucs 0.6582. AP train: 0.1614 and val: 0.1352. Cross entropy train: 0.2521, val: 0.2850.\n"
     ]
    },
    {
     "name": "stderr",
     "output_type": "stream",
     "text": [
      "c:\\Users\\eduez\\AppData\\Local\\pypoetry\\Cache\\virtualenvs\\zrive-ds-s1huuNnt-py3.11\\Lib\\site-packages\\sklearn\\linear_model\\_sag.py:349: ConvergenceWarning: The max_iter was reached which means the coef_ did not converge\n",
      "  warnings.warn(\n"
     ]
    },
    {
     "name": "stdout",
     "output_type": "stream",
     "text": [
      "C: 10000.0 done with train aucs 0.7206 and val aucs 0.6582. AP train: 0.1615 and val: 0.1352. Cross entropy train: 0.2521, val: 0.2850.\n",
      "C: None done with train aucs 0.7205 and val aucs 0.6581. AP train: 0.1613 and val: 0.1352. Cross entropy train: 0.2521, val: 0.2850.\n"
     ]
    },
    {
     "name": "stderr",
     "output_type": "stream",
     "text": [
      "c:\\Users\\eduez\\AppData\\Local\\pypoetry\\Cache\\virtualenvs\\zrive-ds-s1huuNnt-py3.11\\Lib\\site-packages\\sklearn\\linear_model\\_sag.py:349: ConvergenceWarning: The max_iter was reached which means the coef_ did not converge\n",
      "  warnings.warn(\n"
     ]
    }
   ],
   "source": [
    "y_train = np.ravel(y_train)\n",
    "y_val = np.ravel(y_val)\n",
    "\n",
    "lr_push_train_aucs = []\n",
    "lr_push_val_aucs = []\n",
    "lr_push_train_ce = []\n",
    "lr_push_val_ce = []\n",
    "lr_push_train_aps = []\n",
    "lr_push_val_aps = []\n",
    "\n",
    "cs = [1e-8, 1e-6, 1e-4, 1e-2, 1, 100, 1e4, None]\n",
    "for c in cs:\n",
    "    lr1 = make_pipeline(\n",
    "        StandardScaler(),\n",
    "        LogisticRegression(penalty=\"l1\", C=c if c else 1.0, solver=\"saga\") \n",
    "    )\n",
    "    lr1.fit(X_train[train_cols], y_train)\n",
    "    evaluate_configuration(\n",
    "        lr1,\n",
    "        X_train[train_cols],\n",
    "        y_train,\n",
    "        X_val[train_cols],\n",
    "        y_val,\n",
    "        lr_push_train_aucs,\n",
    "        lr_push_val_aucs,\n",
    "        lr_push_train_ce,\n",
    "        lr_push_val_ce,\n",
    "        lr_push_train_aps,\n",
    "        lr_push_val_aps,\n",
    "    )\n",
    "\n",
    "    print(\n",
    "        f\"C: {c} done with train aucs {lr_push_train_aucs[-1]:.4f} and val aucs {lr_push_val_aucs[-1]:.4f}. \"\n",
    "        f\"AP train: {lr_push_train_aps[-1]:.4f} and val: {lr_push_val_aps[-1]:.4f}. \"\n",
    "        f\"Cross entropy train: {lr_push_train_ce[-1]:.4f}, val: {lr_push_val_ce[-1]:.4f}.\"\n",
    "    )"
   ]
  },
  {
   "cell_type": "markdown",
   "id": "1feb3575",
   "metadata": {},
   "source": [
    "### Ridge regression"
   ]
  },
  {
   "cell_type": "code",
   "execution_count": 25,
   "id": "787dd1a6",
   "metadata": {},
   "outputs": [
    {
     "name": "stdout",
     "output_type": "stream",
     "text": [
      "C: 1e-08 done with train aucs 0.6974 and val aucs 0.6639. AP train: 0.1519 and val: 0.1494. Cross entropy train: 0.2729, val: 0.2923.\n",
      "C: 1e-06 done with train aucs 0.6978 and val aucs 0.6639. AP train: 0.1520 and val: 0.1493. Cross entropy train: 0.2727, val: 0.2921.\n",
      "C: 0.0001 done with train aucs 0.7102 and val aucs 0.6618. AP train: 0.1569 and val: 0.1415. Cross entropy train: 0.2644, val: 0.2846.\n",
      "C: 0.01 done with train aucs 0.7206 and val aucs 0.6586. AP train: 0.1615 and val: 0.1353. Cross entropy train: 0.2521, val: 0.2841.\n",
      "C: 1 done with train aucs 0.7222 and val aucs 0.6629. AP train: 0.1652 and val: 0.1376. Cross entropy train: 0.2517, val: 0.2845.\n",
      "C: 100 done with train aucs 0.7222 and val aucs 0.6633. AP train: 0.1655 and val: 0.1374. Cross entropy train: 0.2517, val: 0.2844.\n",
      "C: 10000.0 done with train aucs 0.7222 and val aucs 0.6633. AP train: 0.1655 and val: 0.1374. Cross entropy train: 0.2517, val: 0.2844.\n",
      "C: None done with train aucs 0.7222 and val aucs 0.6629. AP train: 0.1652 and val: 0.1376. Cross entropy train: 0.2517, val: 0.2845.\n"
     ]
    }
   ],
   "source": [
    "y_train = np.ravel(y_train)\n",
    "y_val = np.ravel(y_val)\n",
    "\n",
    "lr_push_train_aucs = []\n",
    "lr_push_val_aucs = []\n",
    "lr_push_train_ce = []\n",
    "lr_push_val_ce = []\n",
    "lr_push_train_aps = []\n",
    "lr_push_val_aps = []\n",
    "\n",
    "cs = [1e-8, 1e-6, 1e-4, 1e-2, 1, 100, 1e4, None]\n",
    "for c in cs:\n",
    "    lr2 = make_pipeline(\n",
    "        StandardScaler(),\n",
    "        LogisticRegression(penalty=\"l2\", C=c if c else 1.0) \n",
    "    )\n",
    "    lr2.fit(X_train[train_cols], y_train)\n",
    "    evaluate_configuration(\n",
    "        lr2,\n",
    "        X_train[train_cols],\n",
    "        y_train,\n",
    "        X_val[train_cols],\n",
    "        y_val,\n",
    "        lr_push_train_aucs,\n",
    "        lr_push_val_aucs,\n",
    "        lr_push_train_ce,\n",
    "        lr_push_val_ce,\n",
    "        lr_push_train_aps,\n",
    "        lr_push_val_aps,\n",
    "    )\n",
    "\n",
    "    print(\n",
    "        f\"C: {c} done with train aucs {lr_push_train_aucs[-1]:.4f} and val aucs {lr_push_val_aucs[-1]:.4f}. \"\n",
    "        f\"AP train: {lr_push_train_aps[-1]:.4f} and val: {lr_push_val_aps[-1]:.4f}. \"\n",
    "        f\"Cross entropy train: {lr_push_train_ce[-1]:.4f}, val: {lr_push_val_ce[-1]:.4f}.\"\n",
    "    )"
   ]
  }
 ],
 "metadata": {
  "kernelspec": {
   "display_name": "zrive-ds-s1huuNnt-py3.11",
   "language": "python",
   "name": "python3"
  },
  "language_info": {
   "codemirror_mode": {
    "name": "ipython",
    "version": 3
   },
   "file_extension": ".py",
   "mimetype": "text/x-python",
   "name": "python",
   "nbconvert_exporter": "python",
   "pygments_lexer": "ipython3",
   "version": "3.11.0"
  }
 },
 "nbformat": 4,
 "nbformat_minor": 5
}
