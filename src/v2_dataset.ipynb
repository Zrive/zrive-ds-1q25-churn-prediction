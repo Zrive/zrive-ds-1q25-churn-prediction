{
 "cells": [
  {
   "cell_type": "code",
   "execution_count": 59,
   "id": "2d3e46e7",
   "metadata": {},
   "outputs": [],
   "source": [
    "import os\n",
    "import pandas as pd\n",
    "from pathlib import Path\n",
    "import numpy as np"
   ]
  },
  {
   "cell_type": "code",
   "execution_count": null,
   "id": "123932e2",
   "metadata": {},
   "outputs": [],
   "source": [
    "data_path = Path(\"../data\")\n",
    "df_withdrawals = pd.read_parquet(data_path / \"zrive_advertiser_withdrawals.parquet\")\n",
    "df_advertiser = pd.read_parquet(data_path / \"zrive_dim_advertiser.parquet\")\n",
    "df_monthly = pd.read_parquet(data_path / \"zrive_fct_monthly_snapshot_advertiser.parquet\")"
   ]
  },
  {
   "cell_type": "code",
   "execution_count": 44,
   "id": "f115ae3a",
   "metadata": {},
   "outputs": [],
   "source": [
    "try:\n",
    "    # Para archivos .py\n",
    "    PATH = os.path.abspath(os.path.join(os.path.dirname(__file__),  \"..\"))\n",
    "except NameError:\n",
    "    # Para Jupyter Notebook\n",
    "    PATH = os.path.abspath(os.path.join(os.getcwd(),  \"..\"))\n",
    "PATH=PATH.replace(\"\\\\\",\"/\")\n",
    "df_withdrawals = pd.read_parquet(PATH+\"/data/zrive_advertiser_withdrawals.parquet\")\n",
    "df_advertiser = pd.read_parquet(PATH+\"/data/zrive_dim_advertiser.parquet\")\n",
    "df_monthly = pd.read_parquet(PATH+\"/data/zrive_fct_montly_snapshot_advertiser.parquet\")"
   ]
  },
  {
   "cell_type": "code",
   "execution_count": null,
   "id": "9100d3d5",
   "metadata": {},
   "outputs": [],
   "source": [
    "# Withdrawals \n",
    "def add_churn(df: pd.DataFrame):\n",
    "    CHURN_REASONS_EXCLUDED = [\n",
    "        'Upselling-cambio de contrato',\n",
    "        'Cambio a Bundle Online',\n",
    "        'Cambio de Contrato/propuesta/producto'\n",
    "    ]\n",
    "    df[\"churn\"] = (\n",
    "        (df_target[\"withdrawal_type\"] == \"TOTAL\") &\n",
    "        (df[\"withdrawal_status\"] != \"Denegada\") &\n",
    "        (~df[\"withdrawal_reason\"].isin(CHURN_REASONS_EXCLUDED))\n",
    "    ).astype(int)\n",
    "    return df\n",
    "\n",
    "def convert_datetime_to_month_period(df, datetime_col, new_col, drop_original=True,n_month:int = 1):\n",
    "    df[new_col] = pd.to_datetime(df[datetime_col]).dt.to_period('M')\n",
    "    if drop_original:\n",
    "        df = df.drop(columns=[datetime_col])\n",
    "        df[\"predict_month\"] = df[new_col] - n_month\n",
    "    return df"
   ]
  },
  {
   "cell_type": "code",
   "execution_count": null,
   "id": "f6177812",
   "metadata": {},
   "outputs": [],
   "source": [
    "#df_monthly\n",
    "def convert_period_int_to_month_period(df, period_col='period_int', new_col='month_period'):\n",
    "    \"\"\"Convierte el formato YYYYMM a un período mensual de pandas\"\"\"\n",
    "    df[new_col] = pd.to_datetime(df[period_col].astype(str) + '01', format='%Y%m%d').dt.to_period('M')\n",
    "    df = df.drop(columns=[period_col])\n",
    "    return df\n",
    "\n",
    "def add_churndf_target(df_monthly, df_withdrawals):\n",
    "    \"\"\"\n",
    "    Añade el target de churn a df_monthly, usando lo calculado en df_withdrawals\n",
    "\n",
    "    Args:\n",
    "        df_monthly: DataFrame con datos mensuales de anunciantes\n",
    "        df_withdrawals: DataFrame procesado con información de churn\n",
    "        \n",
    "    Returns:\n",
    "        DataFrame con columna 'churn' añadida\n",
    "    \"\"\"\n",
    "    # Realizar la unión basada en advertiser_id y el período mensual\n",
    "    df_target = df_monthly.merge(\n",
    "        df_withdrawals[['advertiser_zrive_id', 'predict_month', 'churn']],\n",
    "        left_on=['advertiser_zrive_id', 'month_period'],\n",
    "        right_on=['advertiser_zrive_id', 'predict_month'],\n",
    "        how='left'\n",
    "    )\n",
    "\n",
    "    # Rellenar los valores NaN en churn con 0 (no hubo churn)\n",
    "    df_target['churn'] = df_target['churn'].fillna(0)*1\n",
    "\n",
    "    # Eliminar la columna redundante predict_month\n",
    "    if 'predict_month' in df_target.columns:\n",
    "        df_target = df_target.drop(columns=['predict_month'])\n",
    "\n",
    "    return df_target"
   ]
  },
  {
   "cell_type": "markdown",
   "id": "4efdd6ac",
   "metadata": {},
   "source": [
    "Se unio la funcion add_predict_month a la funcion de convert_datetime_to_month_period  \n",
    "En la funcion \"convert_period_int_to_month_period\" se agrego que se borrara la columna del mes \"period_int\" (formato YYYYMM)"
   ]
  },
  {
   "cell_type": "code",
   "execution_count": 47,
   "id": "ea96caca",
   "metadata": {},
   "outputs": [],
   "source": [
    "df_withdrawals = convert_datetime_to_month_period(\n",
    "    df_withdrawals, \n",
    "    datetime_col='withdrawal_creation_date',\n",
    "    new_col='withdrawal_month'\n",
    ")\n",
    "df_withdrawals = add_churn(df_withdrawals)"
   ]
  },
  {
   "cell_type": "code",
   "execution_count": null,
   "id": "e1ce1428",
   "metadata": {},
   "outputs": [],
   "source": [
    "df_monthly = convert_period_int_to_month_period(df_monthly)\n",
    "df_target = add_churndf_target(df_monthly, df_withdrawals)"
   ]
  },
  {
   "cell_type": "code",
   "execution_count": 54,
   "id": "373af17c",
   "metadata": {},
   "outputs": [],
   "source": [
    "columns_to_train =[\n",
    "       'monthly_published_ads',\n",
    "       'monthly_unique_published_ads',\n",
    "       'monthly_contracted_ads',\n",
    "       'monthly_leads',\n",
    "       'monthly_visits',\n",
    "       'monthly_oro_ads',\n",
    "       'monthly_plata_ads',\n",
    "       'monthly_destacados_ads',\n",
    "       'monthly_pepitas_ads',\n",
    "       'monthly_shows',\n",
    "       'monthly_total_phone_views',\n",
    "       'monthly_total_calls',\n",
    "       'monthly_total_emails',\n",
    "       'monthly_total_invoice',\n",
    "       'monthly_unique_calls',\n",
    "       'monthly_unique_emails',\n",
    "       'monthly_unique_leads',\n",
    "       'has_active_contract',\n",
    "       'churn',\n",
    "\n",
    "       #'month_period',\n",
    "       #'monthly_avg_ad_price',\n",
    "       #'monthly_distinct_ads',\n",
    "]"
   ]
  },
  {
   "cell_type": "code",
   "execution_count": null,
   "id": "d814593a",
   "metadata": {},
   "outputs": [
    {
     "data": {
      "text/plain": [
       "0        0.382979\n",
       "1        0.129032\n",
       "2        0.000000\n",
       "3        0.177215\n",
       "4        0.800000\n",
       "           ...   \n",
       "80559    0.000000\n",
       "80560    0.176471\n",
       "80561    3.333333\n",
       "80562    0.400000\n",
       "80563    0.000000\n",
       "Length: 80564, dtype: float64"
      ]
     },
     "execution_count": 61,
     "metadata": {},
     "output_type": "execute_result"
    }
   ],
   "source": [
    "(df_target[\"monthly_leads\"] / df_target[\"monthly_published_ads\"].replace(0, np.nan)).replace(np.nan,0)"
   ]
  },
  {
   "cell_type": "code",
   "execution_count": null,
   "id": "64344ba6",
   "metadata": {},
   "outputs": [],
   "source": [
    "def calculate_ratios(df):\n",
    "\n",
    "    df[\"leads_per_published_ad\"] = (df[\"monthly_leads\"] / df[\"monthly_published_ads\"].replace(0, np.nan)).replace(np.nan,0)\n",
    "    df[\"leads_per_visit\"] = (df[\"monthly_leads\"] / df[\"monthly_visits_ads\"].replace(0, np.nan)).replace(np.nan,0)\n",
    "    df[\"visits_per_published_ad\"] = (df[\"monthly_visits_ads\"] / df[\"monthly_published_ads\"].replace(0, np.nan)).replace(np.nan,0)\n",
    "    df[\"calls_per_published_ad\"] = (df[\"monthly_total_calls\"] / df[\"monthly_published_ads\"].replace(0, np.nan)).replace(np.nan,0)\n",
    "    df[\"emails_per_published_ad\"] = (df[\"monthly_total_emails\"] / df[\"monthly_published_ads\"].replace(0, np.nan)).replace(np.nan,0)\n",
    "\n",
    "    df[\"invoice_per_published_ad\"] = (df[\"monthly_total_invoice\"] / df[\"monthly_published_ads\"].replace(0, np.nan)).replace(np.nan,0)\n",
    "    df[\"invoice_per_lead\"] = (df[\"monthly_total_invoice\"] / df[\"monthly_leads\"].replace(0, np.nan)).replace(np.nan,0)\n",
    "\n",
    "    df[\"oro_ratio\"] = (df[\"monthly_oro_ads\"] / df[\"monthly_published_ads\"].replace(0, np.nan)).replace(np.nan,0)\n",
    "    df[\"plata_ratio\"] = (df[\"monthly_plata_ads\"] / df[\"monthly_published_ads\"].replace(0, np.nan)).replace(np.nan,0)\n",
    "    df[\"destacados_ratio\"] = (df[\"monthly_destacados_ads\"] / df[\"monthly_published_ads\"].replace(0, np.nan)).replace(np.nan,0)\n",
    "\n",
    "    df[\"delta_leads\"] = df.groupby(\"advertiser_zive_id\")[\"monthly_leads\"].diff()\n",
    "    df[\"delta_invoice\"] = df.groupby(\"advertiser_zive_id\")[\"monthly_total_invoice\"].diff()\n",
    "\n",
    "    return df"
   ]
  },
  {
   "cell_type": "code",
   "execution_count": 63,
   "id": "434e53c0",
   "metadata": {},
   "outputs": [
    {
     "ename": "KeyError",
     "evalue": "'monthly_visits_ads'",
     "output_type": "error",
     "traceback": [
      "\u001b[1;31m---------------------------------------------------------------------------\u001b[0m",
      "\u001b[1;31mKeyError\u001b[0m                                  Traceback (most recent call last)",
      "File \u001b[1;32mc:\\Users\\maick\\AppData\\Local\\Programs\\Python\\Python311\\Lib\\site-packages\\pandas\\core\\indexes\\base.py:3653\u001b[0m, in \u001b[0;36mIndex.get_loc\u001b[1;34m(self, key)\u001b[0m\n\u001b[0;32m   3652\u001b[0m \u001b[38;5;28;01mtry\u001b[39;00m:\n\u001b[1;32m-> 3653\u001b[0m     \u001b[38;5;28;01mreturn\u001b[39;00m \u001b[38;5;28;43mself\u001b[39;49m\u001b[38;5;241;43m.\u001b[39;49m\u001b[43m_engine\u001b[49m\u001b[38;5;241;43m.\u001b[39;49m\u001b[43mget_loc\u001b[49m\u001b[43m(\u001b[49m\u001b[43mcasted_key\u001b[49m\u001b[43m)\u001b[49m\n\u001b[0;32m   3654\u001b[0m \u001b[38;5;28;01mexcept\u001b[39;00m \u001b[38;5;167;01mKeyError\u001b[39;00m \u001b[38;5;28;01mas\u001b[39;00m err:\n",
      "File \u001b[1;32mc:\\Users\\maick\\AppData\\Local\\Programs\\Python\\Python311\\Lib\\site-packages\\pandas\\_libs\\index.pyx:147\u001b[0m, in \u001b[0;36mpandas._libs.index.IndexEngine.get_loc\u001b[1;34m()\u001b[0m\n",
      "File \u001b[1;32mc:\\Users\\maick\\AppData\\Local\\Programs\\Python\\Python311\\Lib\\site-packages\\pandas\\_libs\\index.pyx:176\u001b[0m, in \u001b[0;36mpandas._libs.index.IndexEngine.get_loc\u001b[1;34m()\u001b[0m\n",
      "File \u001b[1;32mpandas\\_libs\\hashtable_class_helper.pxi:7080\u001b[0m, in \u001b[0;36mpandas._libs.hashtable.PyObjectHashTable.get_item\u001b[1;34m()\u001b[0m\n",
      "File \u001b[1;32mpandas\\_libs\\hashtable_class_helper.pxi:7088\u001b[0m, in \u001b[0;36mpandas._libs.hashtable.PyObjectHashTable.get_item\u001b[1;34m()\u001b[0m\n",
      "\u001b[1;31mKeyError\u001b[0m: 'monthly_visits_ads'",
      "\nThe above exception was the direct cause of the following exception:\n",
      "\u001b[1;31mKeyError\u001b[0m                                  Traceback (most recent call last)",
      "Cell \u001b[1;32mIn[63], line 1\u001b[0m\n\u001b[1;32m----> 1\u001b[0m \u001b[43mcalculate_ratios\u001b[49m\u001b[43m(\u001b[49m\u001b[43mdf_target\u001b[49m\u001b[43m)\u001b[49m\n",
      "Cell \u001b[1;32mIn[62], line 4\u001b[0m, in \u001b[0;36mcalculate_ratios\u001b[1;34m(df)\u001b[0m\n\u001b[0;32m      1\u001b[0m \u001b[38;5;28;01mdef\u001b[39;00m \u001b[38;5;21mcalculate_ratios\u001b[39m(df):\n\u001b[0;32m      3\u001b[0m     df[\u001b[38;5;124m\"\u001b[39m\u001b[38;5;124mleads_per_published_ad\u001b[39m\u001b[38;5;124m\"\u001b[39m] \u001b[38;5;241m=\u001b[39m (df[\u001b[38;5;124m\"\u001b[39m\u001b[38;5;124mmonthly_leads\u001b[39m\u001b[38;5;124m\"\u001b[39m] \u001b[38;5;241m/\u001b[39m df[\u001b[38;5;124m\"\u001b[39m\u001b[38;5;124mmonthly_published_ads\u001b[39m\u001b[38;5;124m\"\u001b[39m]\u001b[38;5;241m.\u001b[39mreplace(\u001b[38;5;241m0\u001b[39m, np\u001b[38;5;241m.\u001b[39mnan))\u001b[38;5;241m.\u001b[39mreplace(np\u001b[38;5;241m.\u001b[39mnan,\u001b[38;5;241m0\u001b[39m)\n\u001b[1;32m----> 4\u001b[0m     df[\u001b[38;5;124m\"\u001b[39m\u001b[38;5;124mleads_per_visit\u001b[39m\u001b[38;5;124m\"\u001b[39m] \u001b[38;5;241m=\u001b[39m (df[\u001b[38;5;124m\"\u001b[39m\u001b[38;5;124mmonthly_leads\u001b[39m\u001b[38;5;124m\"\u001b[39m] \u001b[38;5;241m/\u001b[39m \u001b[43mdf\u001b[49m\u001b[43m[\u001b[49m\u001b[38;5;124;43m\"\u001b[39;49m\u001b[38;5;124;43mmonthly_visits_ads\u001b[39;49m\u001b[38;5;124;43m\"\u001b[39;49m\u001b[43m]\u001b[49m\u001b[38;5;241m.\u001b[39mreplace(\u001b[38;5;241m0\u001b[39m, np\u001b[38;5;241m.\u001b[39mnan))\u001b[38;5;241m.\u001b[39mreplace(np\u001b[38;5;241m.\u001b[39mnan,\u001b[38;5;241m0\u001b[39m)\n\u001b[0;32m      5\u001b[0m     df[\u001b[38;5;124m\"\u001b[39m\u001b[38;5;124mvisits_per_published_ad\u001b[39m\u001b[38;5;124m\"\u001b[39m] \u001b[38;5;241m=\u001b[39m (df[\u001b[38;5;124m\"\u001b[39m\u001b[38;5;124mmonthly_visits_ads\u001b[39m\u001b[38;5;124m\"\u001b[39m] \u001b[38;5;241m/\u001b[39m df[\u001b[38;5;124m\"\u001b[39m\u001b[38;5;124mmonthly_published_ads\u001b[39m\u001b[38;5;124m\"\u001b[39m]\u001b[38;5;241m.\u001b[39mreplace(\u001b[38;5;241m0\u001b[39m, np\u001b[38;5;241m.\u001b[39mnan))\u001b[38;5;241m.\u001b[39mreplace(np\u001b[38;5;241m.\u001b[39mnan,\u001b[38;5;241m0\u001b[39m)\n\u001b[0;32m      6\u001b[0m     df[\u001b[38;5;124m\"\u001b[39m\u001b[38;5;124mcalls_per_published_ad\u001b[39m\u001b[38;5;124m\"\u001b[39m] \u001b[38;5;241m=\u001b[39m (df[\u001b[38;5;124m\"\u001b[39m\u001b[38;5;124mmonthly_total_calls\u001b[39m\u001b[38;5;124m\"\u001b[39m] \u001b[38;5;241m/\u001b[39m df[\u001b[38;5;124m\"\u001b[39m\u001b[38;5;124mmonthly_published_ads\u001b[39m\u001b[38;5;124m\"\u001b[39m]\u001b[38;5;241m.\u001b[39mreplace(\u001b[38;5;241m0\u001b[39m, np\u001b[38;5;241m.\u001b[39mnan))\u001b[38;5;241m.\u001b[39mreplace(np\u001b[38;5;241m.\u001b[39mnan,\u001b[38;5;241m0\u001b[39m)\n",
      "File \u001b[1;32mc:\\Users\\maick\\AppData\\Local\\Programs\\Python\\Python311\\Lib\\site-packages\\pandas\\core\\frame.py:3761\u001b[0m, in \u001b[0;36mDataFrame.__getitem__\u001b[1;34m(self, key)\u001b[0m\n\u001b[0;32m   3759\u001b[0m \u001b[38;5;28;01mif\u001b[39;00m \u001b[38;5;28mself\u001b[39m\u001b[38;5;241m.\u001b[39mcolumns\u001b[38;5;241m.\u001b[39mnlevels \u001b[38;5;241m>\u001b[39m \u001b[38;5;241m1\u001b[39m:\n\u001b[0;32m   3760\u001b[0m     \u001b[38;5;28;01mreturn\u001b[39;00m \u001b[38;5;28mself\u001b[39m\u001b[38;5;241m.\u001b[39m_getitem_multilevel(key)\n\u001b[1;32m-> 3761\u001b[0m indexer \u001b[38;5;241m=\u001b[39m \u001b[38;5;28;43mself\u001b[39;49m\u001b[38;5;241;43m.\u001b[39;49m\u001b[43mcolumns\u001b[49m\u001b[38;5;241;43m.\u001b[39;49m\u001b[43mget_loc\u001b[49m\u001b[43m(\u001b[49m\u001b[43mkey\u001b[49m\u001b[43m)\u001b[49m\n\u001b[0;32m   3762\u001b[0m \u001b[38;5;28;01mif\u001b[39;00m is_integer(indexer):\n\u001b[0;32m   3763\u001b[0m     indexer \u001b[38;5;241m=\u001b[39m [indexer]\n",
      "File \u001b[1;32mc:\\Users\\maick\\AppData\\Local\\Programs\\Python\\Python311\\Lib\\site-packages\\pandas\\core\\indexes\\base.py:3655\u001b[0m, in \u001b[0;36mIndex.get_loc\u001b[1;34m(self, key)\u001b[0m\n\u001b[0;32m   3653\u001b[0m     \u001b[38;5;28;01mreturn\u001b[39;00m \u001b[38;5;28mself\u001b[39m\u001b[38;5;241m.\u001b[39m_engine\u001b[38;5;241m.\u001b[39mget_loc(casted_key)\n\u001b[0;32m   3654\u001b[0m \u001b[38;5;28;01mexcept\u001b[39;00m \u001b[38;5;167;01mKeyError\u001b[39;00m \u001b[38;5;28;01mas\u001b[39;00m err:\n\u001b[1;32m-> 3655\u001b[0m     \u001b[38;5;28;01mraise\u001b[39;00m \u001b[38;5;167;01mKeyError\u001b[39;00m(key) \u001b[38;5;28;01mfrom\u001b[39;00m \u001b[38;5;21;01merr\u001b[39;00m\n\u001b[0;32m   3656\u001b[0m \u001b[38;5;28;01mexcept\u001b[39;00m \u001b[38;5;167;01mTypeError\u001b[39;00m:\n\u001b[0;32m   3657\u001b[0m     \u001b[38;5;66;03m# If we have a listlike key, _check_indexing_error will raise\u001b[39;00m\n\u001b[0;32m   3658\u001b[0m     \u001b[38;5;66;03m#  InvalidIndexError. Otherwise we fall through and re-raise\u001b[39;00m\n\u001b[0;32m   3659\u001b[0m     \u001b[38;5;66;03m#  the TypeError.\u001b[39;00m\n\u001b[0;32m   3660\u001b[0m     \u001b[38;5;28mself\u001b[39m\u001b[38;5;241m.\u001b[39m_check_indexing_error(key)\n",
      "\u001b[1;31mKeyError\u001b[0m: 'monthly_visits_ads'"
     ]
    }
   ],
   "source": [
    "calculate_ratios(df_target)"
   ]
  }
 ],
 "metadata": {
  "kernelspec": {
   "display_name": "Python 3",
   "language": "python",
   "name": "python3"
  },
  "language_info": {
   "codemirror_mode": {
    "name": "ipython",
    "version": 3
   },
   "file_extension": ".py",
   "mimetype": "text/x-python",
   "name": "python",
   "nbconvert_exporter": "python",
   "pygments_lexer": "ipython3",
   "version": "3.11.3"
  }
 },
 "nbformat": 4,
 "nbformat_minor": 5
}
